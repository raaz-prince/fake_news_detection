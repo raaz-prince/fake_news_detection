{
  "metadata": {
    "kernelspec": {
      "display_name": "Python 3",
      "name": "python3"
    },
    "language_info": {
      "name": "python",
      "version": "3.10.12",
      "mimetype": "text/x-python",
      "codemirror_mode": {
        "name": "ipython",
        "version": 3
      },
      "pygments_lexer": "ipython3",
      "nbconvert_exporter": "python",
      "file_extension": ".py"
    },
    "kaggle": {
      "accelerator": "nvidiaTeslaT4",
      "dataSources": [
        {
          "sourceId": 10324425,
          "sourceType": "datasetVersion",
          "datasetId": 6392377
        }
      ],
      "dockerImageVersionId": 30840,
      "isInternetEnabled": true,
      "language": "python",
      "sourceType": "notebook",
      "isGpuEnabled": true
    },
    "colab": {
      "provenance": [],
      "gpuType": "T4"
    },
    "accelerator": "GPU",
    "widgets": {
      "application/vnd.jupyter.widget-state+json": {
        "814d6a565b35413fab9594b0f34f0ee4": {
          "model_module": "@jupyter-widgets/controls",
          "model_name": "HBoxModel",
          "model_module_version": "1.5.0",
          "state": {
            "_dom_classes": [],
            "_model_module": "@jupyter-widgets/controls",
            "_model_module_version": "1.5.0",
            "_model_name": "HBoxModel",
            "_view_count": null,
            "_view_module": "@jupyter-widgets/controls",
            "_view_module_version": "1.5.0",
            "_view_name": "HBoxView",
            "box_style": "",
            "children": [
              "IPY_MODEL_ef3851230f454877a4303e90608a229e",
              "IPY_MODEL_91c45436fcc448ccbb36c0a34c12b7a3",
              "IPY_MODEL_8091037f02f64b96a3190233cde5d216"
            ],
            "layout": "IPY_MODEL_cf4c9c6ca7cc42b6a4df7f86605300bf"
          }
        },
        "ef3851230f454877a4303e90608a229e": {
          "model_module": "@jupyter-widgets/controls",
          "model_name": "HTMLModel",
          "model_module_version": "1.5.0",
          "state": {
            "_dom_classes": [],
            "_model_module": "@jupyter-widgets/controls",
            "_model_module_version": "1.5.0",
            "_model_name": "HTMLModel",
            "_view_count": null,
            "_view_module": "@jupyter-widgets/controls",
            "_view_module_version": "1.5.0",
            "_view_name": "HTMLView",
            "description": "",
            "description_tooltip": null,
            "layout": "IPY_MODEL_12e3d25c4e5d45b9ae0f1a69ad8733b3",
            "placeholder": "​",
            "style": "IPY_MODEL_0a62f0940b0c43539e65d226ec4341af",
            "value": "model.safetensors: 100%"
          }
        },
        "91c45436fcc448ccbb36c0a34c12b7a3": {
          "model_module": "@jupyter-widgets/controls",
          "model_name": "FloatProgressModel",
          "model_module_version": "1.5.0",
          "state": {
            "_dom_classes": [],
            "_model_module": "@jupyter-widgets/controls",
            "_model_module_version": "1.5.0",
            "_model_name": "FloatProgressModel",
            "_view_count": null,
            "_view_module": "@jupyter-widgets/controls",
            "_view_module_version": "1.5.0",
            "_view_name": "ProgressView",
            "bar_style": "success",
            "description": "",
            "description_tooltip": null,
            "layout": "IPY_MODEL_a23c9d4847ae4cf2948aa3ca68bd4e0f",
            "max": 440449768,
            "min": 0,
            "orientation": "horizontal",
            "style": "IPY_MODEL_9e13cee985154f0d8deb1c74045233c2",
            "value": 440449768
          }
        },
        "8091037f02f64b96a3190233cde5d216": {
          "model_module": "@jupyter-widgets/controls",
          "model_name": "HTMLModel",
          "model_module_version": "1.5.0",
          "state": {
            "_dom_classes": [],
            "_model_module": "@jupyter-widgets/controls",
            "_model_module_version": "1.5.0",
            "_model_name": "HTMLModel",
            "_view_count": null,
            "_view_module": "@jupyter-widgets/controls",
            "_view_module_version": "1.5.0",
            "_view_name": "HTMLView",
            "description": "",
            "description_tooltip": null,
            "layout": "IPY_MODEL_64d1567fa5f044f18852a00e9e7fa126",
            "placeholder": "​",
            "style": "IPY_MODEL_86f90fa1c2eb4e509fd72bcdef9a65c2",
            "value": " 440M/440M [00:07&lt;00:00, 65.1MB/s]"
          }
        },
        "cf4c9c6ca7cc42b6a4df7f86605300bf": {
          "model_module": "@jupyter-widgets/base",
          "model_name": "LayoutModel",
          "model_module_version": "1.2.0",
          "state": {
            "_model_module": "@jupyter-widgets/base",
            "_model_module_version": "1.2.0",
            "_model_name": "LayoutModel",
            "_view_count": null,
            "_view_module": "@jupyter-widgets/base",
            "_view_module_version": "1.2.0",
            "_view_name": "LayoutView",
            "align_content": null,
            "align_items": null,
            "align_self": null,
            "border": null,
            "bottom": null,
            "display": null,
            "flex": null,
            "flex_flow": null,
            "grid_area": null,
            "grid_auto_columns": null,
            "grid_auto_flow": null,
            "grid_auto_rows": null,
            "grid_column": null,
            "grid_gap": null,
            "grid_row": null,
            "grid_template_areas": null,
            "grid_template_columns": null,
            "grid_template_rows": null,
            "height": null,
            "justify_content": null,
            "justify_items": null,
            "left": null,
            "margin": null,
            "max_height": null,
            "max_width": null,
            "min_height": null,
            "min_width": null,
            "object_fit": null,
            "object_position": null,
            "order": null,
            "overflow": null,
            "overflow_x": null,
            "overflow_y": null,
            "padding": null,
            "right": null,
            "top": null,
            "visibility": null,
            "width": null
          }
        },
        "12e3d25c4e5d45b9ae0f1a69ad8733b3": {
          "model_module": "@jupyter-widgets/base",
          "model_name": "LayoutModel",
          "model_module_version": "1.2.0",
          "state": {
            "_model_module": "@jupyter-widgets/base",
            "_model_module_version": "1.2.0",
            "_model_name": "LayoutModel",
            "_view_count": null,
            "_view_module": "@jupyter-widgets/base",
            "_view_module_version": "1.2.0",
            "_view_name": "LayoutView",
            "align_content": null,
            "align_items": null,
            "align_self": null,
            "border": null,
            "bottom": null,
            "display": null,
            "flex": null,
            "flex_flow": null,
            "grid_area": null,
            "grid_auto_columns": null,
            "grid_auto_flow": null,
            "grid_auto_rows": null,
            "grid_column": null,
            "grid_gap": null,
            "grid_row": null,
            "grid_template_areas": null,
            "grid_template_columns": null,
            "grid_template_rows": null,
            "height": null,
            "justify_content": null,
            "justify_items": null,
            "left": null,
            "margin": null,
            "max_height": null,
            "max_width": null,
            "min_height": null,
            "min_width": null,
            "object_fit": null,
            "object_position": null,
            "order": null,
            "overflow": null,
            "overflow_x": null,
            "overflow_y": null,
            "padding": null,
            "right": null,
            "top": null,
            "visibility": null,
            "width": null
          }
        },
        "0a62f0940b0c43539e65d226ec4341af": {
          "model_module": "@jupyter-widgets/controls",
          "model_name": "DescriptionStyleModel",
          "model_module_version": "1.5.0",
          "state": {
            "_model_module": "@jupyter-widgets/controls",
            "_model_module_version": "1.5.0",
            "_model_name": "DescriptionStyleModel",
            "_view_count": null,
            "_view_module": "@jupyter-widgets/base",
            "_view_module_version": "1.2.0",
            "_view_name": "StyleView",
            "description_width": ""
          }
        },
        "a23c9d4847ae4cf2948aa3ca68bd4e0f": {
          "model_module": "@jupyter-widgets/base",
          "model_name": "LayoutModel",
          "model_module_version": "1.2.0",
          "state": {
            "_model_module": "@jupyter-widgets/base",
            "_model_module_version": "1.2.0",
            "_model_name": "LayoutModel",
            "_view_count": null,
            "_view_module": "@jupyter-widgets/base",
            "_view_module_version": "1.2.0",
            "_view_name": "LayoutView",
            "align_content": null,
            "align_items": null,
            "align_self": null,
            "border": null,
            "bottom": null,
            "display": null,
            "flex": null,
            "flex_flow": null,
            "grid_area": null,
            "grid_auto_columns": null,
            "grid_auto_flow": null,
            "grid_auto_rows": null,
            "grid_column": null,
            "grid_gap": null,
            "grid_row": null,
            "grid_template_areas": null,
            "grid_template_columns": null,
            "grid_template_rows": null,
            "height": null,
            "justify_content": null,
            "justify_items": null,
            "left": null,
            "margin": null,
            "max_height": null,
            "max_width": null,
            "min_height": null,
            "min_width": null,
            "object_fit": null,
            "object_position": null,
            "order": null,
            "overflow": null,
            "overflow_x": null,
            "overflow_y": null,
            "padding": null,
            "right": null,
            "top": null,
            "visibility": null,
            "width": null
          }
        },
        "9e13cee985154f0d8deb1c74045233c2": {
          "model_module": "@jupyter-widgets/controls",
          "model_name": "ProgressStyleModel",
          "model_module_version": "1.5.0",
          "state": {
            "_model_module": "@jupyter-widgets/controls",
            "_model_module_version": "1.5.0",
            "_model_name": "ProgressStyleModel",
            "_view_count": null,
            "_view_module": "@jupyter-widgets/base",
            "_view_module_version": "1.2.0",
            "_view_name": "StyleView",
            "bar_color": null,
            "description_width": ""
          }
        },
        "64d1567fa5f044f18852a00e9e7fa126": {
          "model_module": "@jupyter-widgets/base",
          "model_name": "LayoutModel",
          "model_module_version": "1.2.0",
          "state": {
            "_model_module": "@jupyter-widgets/base",
            "_model_module_version": "1.2.0",
            "_model_name": "LayoutModel",
            "_view_count": null,
            "_view_module": "@jupyter-widgets/base",
            "_view_module_version": "1.2.0",
            "_view_name": "LayoutView",
            "align_content": null,
            "align_items": null,
            "align_self": null,
            "border": null,
            "bottom": null,
            "display": null,
            "flex": null,
            "flex_flow": null,
            "grid_area": null,
            "grid_auto_columns": null,
            "grid_auto_flow": null,
            "grid_auto_rows": null,
            "grid_column": null,
            "grid_gap": null,
            "grid_row": null,
            "grid_template_areas": null,
            "grid_template_columns": null,
            "grid_template_rows": null,
            "height": null,
            "justify_content": null,
            "justify_items": null,
            "left": null,
            "margin": null,
            "max_height": null,
            "max_width": null,
            "min_height": null,
            "min_width": null,
            "object_fit": null,
            "object_position": null,
            "order": null,
            "overflow": null,
            "overflow_x": null,
            "overflow_y": null,
            "padding": null,
            "right": null,
            "top": null,
            "visibility": null,
            "width": null
          }
        },
        "86f90fa1c2eb4e509fd72bcdef9a65c2": {
          "model_module": "@jupyter-widgets/controls",
          "model_name": "DescriptionStyleModel",
          "model_module_version": "1.5.0",
          "state": {
            "_model_module": "@jupyter-widgets/controls",
            "_model_module_version": "1.5.0",
            "_model_name": "DescriptionStyleModel",
            "_view_count": null,
            "_view_module": "@jupyter-widgets/base",
            "_view_module_version": "1.2.0",
            "_view_name": "StyleView",
            "description_width": ""
          }
        }
      }
    }
  },
  "nbformat_minor": 0,
  "nbformat": 4,
  "cells": [
    {
      "cell_type": "code",
      "source": [
        "import pandas as pd\n",
        "import torch\n",
        "from torch.utils.data import Dataset, DataLoader\n",
        "from sklearn.model_selection import train_test_split, StratifiedKFold\n",
        "from sklearn.metrics import accuracy_score, classification_report\n",
        "from transformers import BertTokenizer, BertForSequenceClassification, AdamW, get_scheduler"
      ],
      "metadata": {
        "trusted": true,
        "execution": {
          "iopub.status.busy": "2025-02-02T17:28:31.367162Z",
          "iopub.execute_input": "2025-02-02T17:28:31.367456Z",
          "iopub.status.idle": "2025-02-02T17:28:37.965431Z",
          "shell.execute_reply.started": "2025-02-02T17:28:31.367427Z",
          "shell.execute_reply": "2025-02-02T17:28:37.964534Z"
        },
        "id": "bWnTfrh45BBP"
      },
      "outputs": [],
      "execution_count": null
    },
    {
      "cell_type": "code",
      "source": [
        "class NewsDataset(Dataset):\n",
        "    def __init__(self, texts, labels, tokenizer, max_len):\n",
        "        self.texts = texts\n",
        "        self.labels = labels\n",
        "        self.tokenizer = tokenizer\n",
        "        self.max_len = max_len\n",
        "\n",
        "    def __len__(self):\n",
        "        return len(self.texts)\n",
        "\n",
        "    def __getitem__(self, idx):\n",
        "        text = self.texts[idx]\n",
        "        label = self.labels[idx]\n",
        "        encoding = self.tokenizer(\n",
        "            text,\n",
        "            max_length=self.max_len,\n",
        "            truncation=True,\n",
        "            padding='max_length',\n",
        "            return_tensors='pt'\n",
        "        )\n",
        "        return {\n",
        "            'input_ids': encoding['input_ids'].squeeze(0),\n",
        "            'attention_mask': encoding['attention_mask'].squeeze(0),\n",
        "            'label': torch.tensor(label, dtype=torch.long)\n",
        "        }\n"
      ],
      "metadata": {
        "trusted": true,
        "execution": {
          "iopub.status.busy": "2025-02-02T17:28:37.966558Z",
          "iopub.execute_input": "2025-02-02T17:28:37.967018Z",
          "iopub.status.idle": "2025-02-02T17:28:37.972456Z",
          "shell.execute_reply.started": "2025-02-02T17:28:37.966996Z",
          "shell.execute_reply": "2025-02-02T17:28:37.971449Z"
        },
        "id": "2lEUy7dX5BBQ"
      },
      "outputs": [],
      "execution_count": null
    },
    {
      "cell_type": "code",
      "source": [
        "# Load dataset\n",
        "fake_data = pd.read_csv('Fake.csv')\n",
        "true_data = pd.read_csv('True.csv')"
      ],
      "metadata": {
        "trusted": true,
        "execution": {
          "iopub.status.busy": "2025-02-02T17:28:37.973395Z",
          "iopub.execute_input": "2025-02-02T17:28:37.973683Z",
          "iopub.status.idle": "2025-02-02T17:28:39.269988Z",
          "shell.execute_reply.started": "2025-02-02T17:28:37.973656Z",
          "shell.execute_reply": "2025-02-02T17:28:39.268649Z"
        },
        "id": "sINSmxqD5BBQ"
      },
      "outputs": [],
      "execution_count": null
    },
    {
      "cell_type": "code",
      "source": [
        "fake_data['label'] = 0\n",
        "true_data['label'] = 1\n",
        "data = pd.concat([fake_data, true_data], ignore_index=True)\n"
      ],
      "metadata": {
        "trusted": true,
        "execution": {
          "iopub.status.busy": "2025-02-02T18:19:32.136555Z",
          "iopub.execute_input": "2025-02-02T18:19:32.136854Z",
          "iopub.status.idle": "2025-02-02T18:19:32.146822Z",
          "shell.execute_reply.started": "2025-02-02T18:19:32.136832Z",
          "shell.execute_reply": "2025-02-02T18:19:32.145924Z"
        },
        "id": "qJugJoRc5BBR"
      },
      "outputs": [],
      "execution_count": null
    },
    {
      "cell_type": "code",
      "source": [
        "X_train, X_test, y_train, y_test = train_test_split(\n",
        "    data['text'], data['label'], test_size=0.2, random_state=42, stratify=data['label']\n",
        ")"
      ],
      "metadata": {
        "trusted": true,
        "execution": {
          "iopub.status.busy": "2025-02-02T18:15:08.483218Z",
          "iopub.execute_input": "2025-02-02T18:15:08.483534Z",
          "iopub.status.idle": "2025-02-02T18:15:08.5304Z",
          "shell.execute_reply.started": "2025-02-02T18:15:08.483509Z",
          "shell.execute_reply": "2025-02-02T18:15:08.529099Z"
        },
        "id": "JtbrJGQT5BBS"
      },
      "outputs": [],
      "execution_count": null
    },
    {
      "cell_type": "code",
      "source": [
        "# Tokenizer\n",
        "tokenizer = BertTokenizer.from_pretrained('bert-base-uncased')\n",
        "max_len = 256  # Reduced from 512 to speed up training\n"
      ],
      "metadata": {
        "trusted": true,
        "execution": {
          "iopub.status.busy": "2025-02-02T17:28:39.3068Z",
          "iopub.execute_input": "2025-02-02T17:28:39.307089Z",
          "iopub.status.idle": "2025-02-02T17:28:39.476647Z",
          "shell.execute_reply.started": "2025-02-02T17:28:39.307061Z",
          "shell.execute_reply": "2025-02-02T17:28:39.475967Z"
        },
        "id": "e8fUp_qO5BBT"
      },
      "outputs": [],
      "execution_count": null
    },
    {
      "cell_type": "code",
      "source": [
        "train_dataset = NewsDataset(X_train.tolist(), y_train.tolist(), tokenizer, max_len)\n",
        "test_dataset = NewsDataset(X_test.tolist(), y_test.tolist(), tokenizer, max_len)"
      ],
      "metadata": {
        "trusted": true,
        "execution": {
          "iopub.status.busy": "2025-02-02T17:28:39.477175Z",
          "iopub.execute_input": "2025-02-02T17:28:39.477401Z",
          "iopub.status.idle": "2025-02-02T17:28:39.483519Z",
          "shell.execute_reply.started": "2025-02-02T17:28:39.477382Z",
          "shell.execute_reply": "2025-02-02T17:28:39.482578Z"
        },
        "id": "NCfEH-aT5BBT"
      },
      "outputs": [],
      "execution_count": null
    },
    {
      "cell_type": "code",
      "source": [
        "# DataLoaders with optimizations\n",
        "train_loader = DataLoader(train_dataset, batch_size=16, shuffle=True, num_workers=2, pin_memory=True)\n",
        "test_loader = DataLoader(test_dataset, batch_size=16, shuffle=False, num_workers=2, pin_memory=True)"
      ],
      "metadata": {
        "trusted": true,
        "execution": {
          "iopub.status.busy": "2025-02-02T17:28:39.484399Z",
          "iopub.execute_input": "2025-02-02T17:28:39.484686Z",
          "iopub.status.idle": "2025-02-02T17:28:39.50115Z",
          "shell.execute_reply.started": "2025-02-02T17:28:39.484657Z",
          "shell.execute_reply": "2025-02-02T17:28:39.50059Z"
        },
        "id": "NazEiluY5BBT"
      },
      "outputs": [],
      "execution_count": null
    },
    {
      "cell_type": "code",
      "source": [
        "# Custom BERT Model with Increased Dropout\n",
        "class CustomBERTModel(torch.nn.Module):\n",
        "    def __init__(self, dropout_rate=0.3):  # Increased dropout\n",
        "        super(CustomBERTModel, self).__init__()\n",
        "        self.bert = BertForSequenceClassification.from_pretrained(\"bert-base-uncased\", num_labels=2)\n",
        "        self.bert.dropout = torch.nn.Dropout(p=dropout_rate)  # Adjusted dropout\n",
        "\n",
        "    def forward(self, input_ids, attention_mask, labels=None):\n",
        "        return self.bert(input_ids, attention_mask=attention_mask, labels=labels)\n",
        "\n"
      ],
      "metadata": {
        "id": "BraoYdXI1_d8"
      },
      "execution_count": null,
      "outputs": []
    },
    {
      "cell_type": "code",
      "source": [
        "# Model\n",
        "device = torch.device('cuda' if torch.cuda.is_available() else 'cpu')\n",
        "model = CustomBERTModel(dropout_rate=0.3).to(device)"
      ],
      "metadata": {
        "trusted": true,
        "execution": {
          "iopub.status.busy": "2025-02-02T17:28:39.501889Z",
          "iopub.execute_input": "2025-02-02T17:28:39.502107Z",
          "iopub.status.idle": "2025-02-02T17:28:40.05536Z",
          "shell.execute_reply.started": "2025-02-02T17:28:39.502088Z",
          "shell.execute_reply": "2025-02-02T17:28:40.054548Z"
        },
        "id": "bIvvcj0c5BBT",
        "outputId": "8819c5a0-00fe-4721-fc37-d189142820b2",
        "colab": {
          "base_uri": "https://localhost:8080/",
          "height": 105,
          "referenced_widgets": [
            "814d6a565b35413fab9594b0f34f0ee4",
            "ef3851230f454877a4303e90608a229e",
            "91c45436fcc448ccbb36c0a34c12b7a3",
            "8091037f02f64b96a3190233cde5d216",
            "cf4c9c6ca7cc42b6a4df7f86605300bf",
            "12e3d25c4e5d45b9ae0f1a69ad8733b3",
            "0a62f0940b0c43539e65d226ec4341af",
            "a23c9d4847ae4cf2948aa3ca68bd4e0f",
            "9e13cee985154f0d8deb1c74045233c2",
            "64d1567fa5f044f18852a00e9e7fa126",
            "86f90fa1c2eb4e509fd72bcdef9a65c2"
          ]
        }
      },
      "outputs": [
        {
          "output_type": "display_data",
          "data": {
            "text/plain": [
              "model.safetensors:   0%|          | 0.00/440M [00:00<?, ?B/s]"
            ],
            "application/vnd.jupyter.widget-view+json": {
              "version_major": 2,
              "version_minor": 0,
              "model_id": "814d6a565b35413fab9594b0f34f0ee4"
            }
          },
          "metadata": {}
        },
        {
          "output_type": "stream",
          "name": "stderr",
          "text": [
            "Some weights of BertForSequenceClassification were not initialized from the model checkpoint at bert-base-uncased and are newly initialized: ['classifier.bias', 'classifier.weight']\n",
            "You should probably TRAIN this model on a down-stream task to be able to use it for predictions and inference.\n"
          ]
        }
      ],
      "execution_count": null
    },
    {
      "cell_type": "code",
      "source": [
        "for param in model.bert.bert.parameters():\n",
        "  param.requires_grad = False"
      ],
      "metadata": {
        "id": "GFWEf4dY2YYh"
      },
      "execution_count": null,
      "outputs": []
    },
    {
      "cell_type": "code",
      "source": [
        "# Optimizer & Scheduler\n",
        "optimizer = torch.optim.AdamW(model.parameters(), lr=2e-5, weight_decay=0.01)\n",
        "scheduler = get_scheduler(\"linear\", optimizer=optimizer, num_warmup_steps=100, num_training_steps=len(train_loader) * 3)"
      ],
      "metadata": {
        "trusted": true,
        "execution": {
          "iopub.status.busy": "2025-02-02T17:28:40.05628Z",
          "iopub.execute_input": "2025-02-02T17:28:40.056568Z",
          "iopub.status.idle": "2025-02-02T17:28:40.06385Z",
          "shell.execute_reply.started": "2025-02-02T17:28:40.056538Z",
          "shell.execute_reply": "2025-02-02T17:28:40.063039Z"
        },
        "id": "ecRcDBPC5BBT"
      },
      "outputs": [],
      "execution_count": null
    },
    {
      "cell_type": "code",
      "source": [
        "scaler = torch.amp.GradScaler()  # Mixed Precision Training"
      ],
      "metadata": {
        "trusted": true,
        "execution": {
          "iopub.status.busy": "2025-02-02T17:28:40.064579Z",
          "iopub.execute_input": "2025-02-02T17:28:40.06485Z",
          "iopub.status.idle": "2025-02-02T17:28:40.08309Z",
          "shell.execute_reply.started": "2025-02-02T17:28:40.064822Z",
          "shell.execute_reply": "2025-02-02T17:28:40.082402Z"
        },
        "id": "JeFen8tD5BBU"
      },
      "outputs": [],
      "execution_count": null
    },
    {
      "cell_type": "code",
      "source": [
        "# K-Fold Cross Validation\n",
        "kf = StratifiedKFold(n_splits=5, shuffle=True, random_state=42)\n",
        "\n",
        "for fold, (train_idx, val_idx) in enumerate(kf.split(X_train, y_train)):\n",
        "    print(f'\\n==== Fold {fold + 1} ====')\n",
        "    X_fold_train, X_fold_val = X_train.iloc[train_idx], X_train.iloc[val_idx]\n",
        "    y_fold_train, y_fold_val = y_train.iloc[train_idx], y_train.iloc[val_idx]\n",
        "\n",
        "    fold_train_dataset = NewsDataset(X_fold_train.tolist(), y_fold_train.tolist(), tokenizer, max_len)\n",
        "    fold_val_dataset = NewsDataset(X_fold_val.tolist(), y_fold_val.tolist(), tokenizer, max_len)\n",
        "\n",
        "    fold_train_loader = DataLoader(fold_train_dataset, batch_size=16, shuffle=True, num_workers=2, pin_memory=True)\n",
        "    fold_val_loader = DataLoader(fold_val_dataset, batch_size=16, shuffle=False, num_workers=2, pin_memory=True)\n",
        "\n",
        "    # Training with Early Stopping\n",
        "    best_val_accuracy = 0.0\n",
        "    patience = 3  # Stop after 3 epochs of no improvement\n",
        "    epochs_without_improvement = 0\n",
        "    epochs = 3  # Set maximum number of epochs\n",
        "\n",
        "    for epoch in range(epochs):\n",
        "        model.train()\n",
        "        total_loss = 0\n",
        "        for batch in fold_train_loader:\n",
        "            input_ids = batch['input_ids'].to(device)\n",
        "            attention_mask = batch['attention_mask'].to(device)\n",
        "            labels = batch['label'].to(device)\n",
        "\n",
        "            optimizer.zero_grad()\n",
        "            with torch.amp.autocast(device_type=device.type):\n",
        "                outputs = model(input_ids, attention_mask=attention_mask, labels=labels)\n",
        "                loss = outputs.loss\n",
        "\n",
        "            scaler.scale(loss).backward()\n",
        "            scaler.step(optimizer)\n",
        "            scaler.update()\n",
        "            scheduler.step()\n",
        "            total_loss += loss.item()\n",
        "\n",
        "        print(f\"Epoch {epoch+1} Training Loss: {total_loss / len(fold_train_loader):.4f}\")\n",
        "\n",
        "        # Validation Evaluation\n",
        "        model.eval()\n",
        "        val_predictions, val_true_labels = [], []\n",
        "        with torch.no_grad():\n",
        "            for batch in fold_val_loader:\n",
        "                input_ids = batch['input_ids'].to(device)\n",
        "                attention_mask = batch['attention_mask'].to(device)\n",
        "                labels = batch['label'].to(device)\n",
        "\n",
        "                outputs = model(input_ids, attention_mask=attention_mask)\n",
        "                preds = torch.argmax(outputs.logits, dim=1).cpu().numpy()\n",
        "                val_predictions.extend(preds)\n",
        "                val_true_labels.extend(labels.cpu().numpy())\n",
        "\n",
        "        val_accuracy = accuracy_score(val_true_labels, val_predictions)\n",
        "        print(f'Fold {fold + 1} Validation Accuracy: {val_accuracy:.4f}')\n",
        "\n",
        "        # Early Stopping\n",
        "        if val_accuracy > best_val_accuracy:\n",
        "            best_val_accuracy = val_accuracy\n",
        "            epochs_without_improvement = 0  # Reset\n",
        "        else:\n",
        "            epochs_without_improvement += 1\n",
        "\n",
        "        if epochs_without_improvement >= patience:\n",
        "            print(f'Early stopping at epoch {epoch+1}')\n",
        "            break"
      ],
      "metadata": {
        "id": "cLj9jSLl7ebn",
        "outputId": "454a159c-5363-40c9-c12f-bc8026b6f388",
        "colab": {
          "base_uri": "https://localhost:8080/"
        }
      },
      "execution_count": null,
      "outputs": [
        {
          "output_type": "stream",
          "name": "stdout",
          "text": [
            "\n",
            "==== Fold 1 ====\n",
            "Epoch 1 Training Loss: 0.4898\n",
            "Fold 1 Validation Accuracy: 0.8604\n",
            "Epoch 2 Training Loss: 0.4484\n",
            "Fold 1 Validation Accuracy: 0.8653\n",
            "Epoch 3 Training Loss: 0.4264\n",
            "Fold 1 Validation Accuracy: 0.8718\n",
            "\n",
            "==== Fold 2 ====\n",
            "Epoch 1 Training Loss: 0.4232\n",
            "Fold 2 Validation Accuracy: 0.8767\n",
            "Epoch 2 Training Loss: 0.4205\n",
            "Fold 2 Validation Accuracy: 0.8767\n",
            "Epoch 3 Training Loss: 0.4191\n",
            "Fold 2 Validation Accuracy: 0.8767\n",
            "\n",
            "==== Fold 3 ====\n",
            "Epoch 1 Training Loss: 0.4202\n",
            "Fold 3 Validation Accuracy: 0.8800\n",
            "Epoch 2 Training Loss: 0.4206\n",
            "Fold 3 Validation Accuracy: 0.8800\n",
            "Epoch 3 Training Loss: 0.4205\n",
            "Fold 3 Validation Accuracy: 0.8800\n",
            "\n",
            "==== Fold 4 ====\n",
            "Epoch 1 Training Loss: 0.4198\n",
            "Fold 4 Validation Accuracy: 0.8801\n",
            "Epoch 2 Training Loss: 0.4192\n",
            "Fold 4 Validation Accuracy: 0.8801\n",
            "Epoch 3 Training Loss: 0.4210\n",
            "Fold 4 Validation Accuracy: 0.8801\n",
            "\n",
            "==== Fold 5 ====\n",
            "Epoch 1 Training Loss: 0.4217\n",
            "Fold 5 Validation Accuracy: 0.8814\n",
            "Epoch 2 Training Loss: 0.4200\n",
            "Fold 5 Validation Accuracy: 0.8814\n",
            "Epoch 3 Training Loss: 0.4217\n",
            "Fold 5 Validation Accuracy: 0.8814\n"
          ]
        }
      ]
    },
    {
      "cell_type": "code",
      "source": [
        "# Final Test Evaluation\n",
        "model.eval()\n",
        "predictions, true_labels = [], []\n",
        "with torch.no_grad():\n",
        "    for batch in test_loader:\n",
        "        input_ids = batch['input_ids'].to(device)\n",
        "        attention_mask = batch['attention_mask'].to(device)\n",
        "        labels = batch['label'].to(device)\n",
        "\n",
        "        outputs = model(input_ids, attention_mask=attention_mask)\n",
        "        preds = torch.argmax(outputs.logits, dim=1).cpu().numpy()\n",
        "        predictions.extend(preds)\n",
        "        true_labels.extend(labels.cpu().numpy())\n",
        "\n",
        "test_accuracy = accuracy_score(true_labels, predictions)\n",
        "report = classification_report(true_labels, predictions)\n",
        "\n",
        "print(f'\\nTest Accuracy: {test_accuracy:.4f}')\n",
        "print(f'Classification Report:\\n{report}')\n"
      ],
      "metadata": {
        "trusted": true,
        "execution": {
          "iopub.status.busy": "2025-02-02T17:50:59.424412Z",
          "iopub.execute_input": "2025-02-02T17:50:59.424666Z",
          "iopub.status.idle": "2025-02-02T17:52:56.81525Z",
          "shell.execute_reply.started": "2025-02-02T17:50:59.424643Z",
          "shell.execute_reply": "2025-02-02T17:52:56.814373Z"
        },
        "id": "Nz3Etg2n5BBU",
        "outputId": "2e68fc5a-1d9d-450b-91a2-7ed6681f0cac",
        "colab": {
          "base_uri": "https://localhost:8080/"
        }
      },
      "outputs": [
        {
          "output_type": "stream",
          "name": "stdout",
          "text": [
            "\n",
            "Test Accuracy: 0.8790\n",
            "Classification Report:\n",
            "              precision    recall  f1-score   support\n",
            "\n",
            "           0       0.94      0.83      0.88      4696\n",
            "           1       0.83      0.94      0.88      4284\n",
            "\n",
            "    accuracy                           0.88      8980\n",
            "   macro avg       0.88      0.88      0.88      8980\n",
            "weighted avg       0.89      0.88      0.88      8980\n",
            "\n"
          ]
        }
      ],
      "execution_count": null
    },
    {
      "cell_type": "code",
      "source": [
        "# Save the entire model\n",
        "torch.save(model, 'textual_news_model.pth')\n",
        "\n",
        "# Save the model's state_dict\n",
        "torch.save(model.state_dict(), 'textual_news_model_state_dict.pth')"
      ],
      "metadata": {
        "id": "siU9xQJIWdau"
      },
      "execution_count": null,
      "outputs": []
    }
  ]
}